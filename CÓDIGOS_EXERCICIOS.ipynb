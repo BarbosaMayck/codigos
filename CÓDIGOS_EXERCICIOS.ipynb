{
  "nbformat": 4,
  "nbformat_minor": 0,
  "metadata": {
    "colab": {
      "provenance": []
    },
    "kernelspec": {
      "name": "python3",
      "display_name": "Python 3"
    },
    "language_info": {
      "name": "python"
    }
  },
  "cells": [
    {
      "cell_type": "code",
      "execution_count": null,
      "metadata": {
        "id": "0ezyn4j0TaXJ"
      },
      "outputs": [],
      "source": [
        "senha = 1234\n",
        "numero = int(input(\"Digite um Número: \"))\n",
        "if numero == senha:\n",
        "             print(\"Acesso Liberado\")\n",
        "else:\n",
        " print(\"Acesso Negado\")"
      ]
    },
    {
      "cell_type": "code",
      "source": [
        "soma = 15\n",
        "numero1 = float(input(\"Digite um Número: \"))\n",
        "numero2 = float(input(\"Digite um Número: \"))\n",
        "total = numero1 + numero2\n",
        "if total > soma:\n",
        "  print(\"É Maior:\", total)\n",
        "else:\n",
        "    print(\"É Menor:\", total)"
      ],
      "metadata": {
        "id": "lelQZX4aUpyD"
      },
      "execution_count": null,
      "outputs": []
    },
    {
      "cell_type": "code",
      "source": [
        "tamanhoscalca = [34, 36, 38, 40, 42, 44]\n",
        "\n",
        "calca = int(input(\"Digite o número da calça: \"))\n",
        "\n",
        "if calca in tamanhoscalca:\n",
        "    if calca in [34, 36]:\n",
        "        print(\"Tamanho P\")\n",
        "    elif calca in [38, 40]:\n",
        "        print(\"Tamanho M\")\n",
        "    elif calca in [42, 44]:\n",
        "        print(\"Tamanho G\")\n",
        "else:\n",
        "    print(\"Número de calça não encontrado\")"
      ],
      "metadata": {
        "id": "2C2svVkmYQPC"
      },
      "execution_count": null,
      "outputs": []
    },
    {
      "cell_type": "code",
      "source": [
        "calca = int(input(\"Digite o número da calça: \"))\n",
        "\n",
        "if calca == 34 or calca == 36:\n",
        "    print(\"Número P\")\n",
        "elif calca == 38 or calca == 40:\n",
        "    print(\"Número M\")\n",
        "elif calca == 42 or calca == 44:\n",
        "    print(\"Número G\")\n",
        "else:\n",
        "    print(\"Número não encontrado\")"
      ],
      "metadata": {
        "id": "lpFUMjQ7Zcas"
      },
      "execution_count": null,
      "outputs": []
    }
  ]
}